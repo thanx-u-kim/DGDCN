{
 "cells": [
  {
   "cell_type": "code",
   "execution_count": null,
   "id": "2b470c70",
   "metadata": {
    "colab": {
     "base_uri": "https://localhost:8080/",
     "height": 17
    },
    "executionInfo": {
     "elapsed": 6,
     "status": "ok",
     "timestamp": 1657071459650,
     "user": {
      "displayName": "Sanggyu Kim",
      "userId": "17082065043685473570"
     },
     "user_tz": -540
    },
    "id": "2b470c70",
    "outputId": "6f3f028a-8128-418a-b87d-500d049a92fe"
   },
   "outputs": [],
   "source": [
    "from IPython.core.display import display, HTML\n",
    "display(HTML(\"<style>.container { width:90% !important; }</style>\"))"
   ]
  },
  {
   "cell_type": "code",
   "execution_count": null,
   "id": "c466ffcc",
   "metadata": {
    "executionInfo": {
     "elapsed": 3445,
     "status": "ok",
     "timestamp": 1657071465909,
     "user": {
      "displayName": "Sanggyu Kim",
      "userId": "17082065043685473570"
     },
     "user_tz": -540
    },
    "id": "c466ffcc"
   },
   "outputs": [],
   "source": [
    "import pickle\n",
    "import numpy as np\n",
    "import torch"
   ]
  },
  {
   "cell_type": "code",
   "execution_count": null,
   "id": "uQRQVVFJJvOQ",
   "metadata": {
    "id": "uQRQVVFJJvOQ"
   },
   "outputs": [],
   "source": [
    "datelist = [2, 3, 4, 5, 6, 9, 10, 11, 12, 13, 16, 17, 18, 19, 20, 23, 24, 25, 26, 27] ## Consider only weekdays (Mon–Fri) for the month of April.\n",
    "datalength = 144 * len(datelist)\n",
    "print(f'Dataset contains total {len(datelist)} days, and the length is {datalength}.')"
   ]
  },
  {
   "cell_type": "code",
   "execution_count": null,
   "id": "bc3c639f",
   "metadata": {
    "id": "bc3c639f"
   },
   "outputs": [],
   "source": [
    "def name_call(category, day, order):  ## category: \"in_flow\" or \"out_flow\"\n",
    "    directory = './Mapmatching_output/18-04-'+format(day, '02')+'/'\n",
    "    filename = str(category)+'_'+format(day, '02')+'_'+format(order, '03')+'.pkl'\n",
    "    full_name = directory + filename\n",
    "    return full_name"
   ]
  },
  {
   "cell_type": "code",
   "execution_count": null,
   "id": "afe22374",
   "metadata": {
    "id": "afe22374"
   },
   "outputs": [],
   "source": [
    "def get_time_list(num):\n",
    "    time_list = [num + 144*i for i in range(-40, 40)]\n",
    "    valid_list = [value for value in time_list if value >= 0 and value < datalength and value!=num]\n",
    "    return valid_list"
   ]
  },
  {
   "cell_type": "markdown",
   "id": "14ffc0e0",
   "metadata": {
    "id": "14ffc0e0"
   },
   "source": [
    "## Load inflow data and Generate inflow adj matrix"
   ]
  },
  {
   "cell_type": "code",
   "execution_count": null,
   "id": "a68a5098",
   "metadata": {
    "id": "a68a5098"
   },
   "outputs": [],
   "source": [
    "edge_number = 451 # You should input the exact nodes number of the study area network \n",
    "adj = np.zeros(shape=(datalength, edge_number, edge_number))\n",
    "count = 0\n",
    "\n",
    "for i in datelist:\n",
    "    for j in range(0, 144):\n",
    "        try:\n",
    "            dataname = name_call('in_flow', i, j)\n",
    "            data = np.array(torch.load(dataname), dtype=np.float32)\n",
    "            adj[count] = data\n",
    "            count += 1\n",
    "        except FileNotFoundError:\n",
    "            count += 1\n",
    "            continue\n",
    "if count == datalength:\n",
    "    print(f'Total {count} data have been successfully loaded.')\n",
    "else:\n",
    "    print(f'The loading process has something wrong.\\nThe number of data should be {datalength}.')"
   ]
  },
  {
   "cell_type": "code",
   "execution_count": null,
   "id": "cd887a5d",
   "metadata": {
    "id": "cd887a5d"
   },
   "outputs": [],
   "source": [
    "%%time\n",
    "\n",
    "for i in range(0, datalength):\n",
    "    if np.max(adj[i]) == 0:\n",
    "        try:\n",
    "            if np.max(adj[i+1]) != 0:\n",
    "                adj[i] = np.round((adj[i-1] + adj[i+1])/2)\n",
    "            else:\n",
    "                raise Exception(\"Exception process should be conducted.\")\n",
    "        except:\n",
    "            time_list = get_time_list(i)\n",
    "            length = 0\n",
    "            for k in time_list:\n",
    "                if np.max(adj[k]) != 0:\n",
    "                    length += 1\n",
    "                    adj[i] += adj[k]\n",
    "            adj[i] = np.round(adj[i]/length)"
   ]
  },
  {
   "cell_type": "code",
   "execution_count": null,
   "id": "d11b133d",
   "metadata": {
    "id": "d11b133d"
   },
   "outputs": [],
   "source": [
    "counts = 0\n",
    "missing_list = []\n",
    "for i in range(0, datalength):\n",
    "    if np.max(adj[i]) == 0:\n",
    "        counts += 1\n",
    "        missing_list.append(i)\n",
    "print(f'The number of missing data is {counts}.')\n",
    "print(missing_list)\n",
    "## The counts value should be 0"
   ]
  },
  {
   "cell_type": "code",
   "execution_count": null,
   "id": "a6cff418",
   "metadata": {},
   "outputs": [],
   "source": [
    "adj.shape"
   ]
  },
  {
   "cell_type": "code",
   "execution_count": null,
   "id": "7b68c1aa",
   "metadata": {
    "id": "7b68c1aa"
   },
   "outputs": [],
   "source": [
    "inflow_adj = np.copy(adj)\n",
    "np.save('../../input_data/inflow_adj_data.npy',inflow_adj)"
   ]
  },
  {
   "cell_type": "markdown",
   "id": "af90a569",
   "metadata": {
    "id": "af90a569"
   },
   "source": [
    "## Load outflow data and generate outflow adj matrix"
   ]
  },
  {
   "cell_type": "code",
   "execution_count": null,
   "id": "bd6e0883",
   "metadata": {
    "id": "bd6e0883"
   },
   "outputs": [],
   "source": [
    "adj = np.zeros(shape=(datalength, edge_number, edge_number))\n",
    "count = 0\n",
    "\n",
    "for i in datelist:\n",
    "    for j in range(0, 144):\n",
    "        try:\n",
    "            dataname = name_call('out_flow', i, j)\n",
    "            data = np.array(torch.load(dataname), dtype=np.float32)\n",
    "            adj[count] = data\n",
    "            count += 1\n",
    "        except FileNotFoundError:\n",
    "            count += 1\n",
    "            continue\n",
    "if count == datalength:\n",
    "    print(f'Total {count} data have been successfully loaded.')\n",
    "else:\n",
    "    print(f'The loading process has something wrong.\\nThe number of data should be {datalength}.')"
   ]
  },
  {
   "cell_type": "code",
   "execution_count": null,
   "id": "685795bb",
   "metadata": {
    "id": "685795bb"
   },
   "outputs": [],
   "source": [
    "%%time\n",
    "\n",
    "for i in range(0, datalength):\n",
    "    if np.max(adj[i]) == 0:\n",
    "        try:\n",
    "            if np.max(adj[i+1]) != 0:\n",
    "                adj[i] = np.round((adj[i-1] + adj[i+1])/2)\n",
    "            else:\n",
    "                raise Exception(\"Exception process should be conducted.\")\n",
    "        except:\n",
    "            time_list = get_time_list(i)\n",
    "            length = 0\n",
    "            for k in time_list:\n",
    "                if np.max(adj[k]) != 0:\n",
    "                    length += 1\n",
    "                    adj[i] += adj[k]\n",
    "            adj[i] = np.round(adj[i]/length)"
   ]
  },
  {
   "cell_type": "code",
   "execution_count": null,
   "id": "db97fda1",
   "metadata": {
    "id": "db97fda1"
   },
   "outputs": [],
   "source": [
    "counts = 0\n",
    "missing_list = []\n",
    "for i in range(0, datalength):\n",
    "    if np.max(adj[i]) == 0:\n",
    "        counts += 1\n",
    "        missing_list.append(i)\n",
    "print(f'The number of missing data is {counts}.')\n",
    "print(missing_list)\n",
    "## The counts value should be 0"
   ]
  },
  {
   "cell_type": "code",
   "execution_count": null,
   "id": "069b0c4c",
   "metadata": {
    "id": "069b0c4c"
   },
   "outputs": [],
   "source": [
    "%%time\n",
    "\n",
    "outflow_adj = np.copy(adj)\n",
    "np.save('../../input_data/outflow_adj_data.npy',outflow_adj)"
   ]
  }
 ],
 "metadata": {
  "colab": {
   "collapsed_sections": [],
   "name": "(220706)FlowAdj_Generation.ipynb",
   "provenance": []
  },
  "kernelspec": {
   "display_name": "brl",
   "language": "python",
   "name": "python3"
  },
  "language_info": {
   "codemirror_mode": {
    "name": "ipython",
    "version": 3
   },
   "file_extension": ".py",
   "mimetype": "text/x-python",
   "name": "python",
   "nbconvert_exporter": "python",
   "pygments_lexer": "ipython3",
   "version": "3.8.13"
  }
 },
 "nbformat": 4,
 "nbformat_minor": 5
}
