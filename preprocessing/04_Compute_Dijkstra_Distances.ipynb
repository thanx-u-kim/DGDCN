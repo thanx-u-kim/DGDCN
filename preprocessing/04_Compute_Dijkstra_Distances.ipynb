{
 "cells": [
  {
   "cell_type": "code",
   "execution_count": null,
   "id": "e412ae0d",
   "metadata": {},
   "outputs": [],
   "source": [
    "from IPython.core.display import display, HTML\n",
    "display(HTML(\"<style>.container { width:90% !important; }</style>\"))"
   ]
  },
  {
   "cell_type": "code",
   "execution_count": null,
   "id": "5af29a02",
   "metadata": {},
   "outputs": [],
   "source": [
    "import torch\n",
    "import pandas as pd\n",
    "import numpy as np\n",
    "import pickle"
   ]
  },
  {
   "cell_type": "code",
   "execution_count": null,
   "id": "71b48cdc",
   "metadata": {
    "scrolled": true
   },
   "outputs": [],
   "source": [
    "data = pd.read_pickle('./speed_02_000.pkl') ## You may use any speed pickle file generated from Preprocessing2, since only the network information is utilized from the data."
   ]
  },
  {
   "cell_type": "code",
   "execution_count": null,
   "id": "1aa07d2b",
   "metadata": {},
   "outputs": [],
   "source": [
    "def DistanceAdj(dataframe, edge_number):\n",
    "    # initializing the matrix\n",
    "    real_distance_adj = torch.zeros(edge_number, edge_number)\n",
    "    \n",
    "    # EdgeID list generation\n",
    "    EdgeID_list = list(dataframe.EdgeID.unique())\n",
    "    \n",
    "    # Updating the conenctivity adjacency matrix\n",
    "    for idx in EdgeID_list:\n",
    "        in_num = dataframe.Link.loc[idx][0]\n",
    "        out_num = dataframe.Link.loc[idx][1]\n",
    "        \n",
    "        for i in range(edge_number):\n",
    "            if dataframe.Link.iloc[i][0] == out_num:\n",
    "                if dataframe.Link.iloc[i][1] == in_num:\n",
    "                    real_distance_adj[idx, i] = 0\n",
    "                else:\n",
    "                    real_distance_adj[idx, i] = (dataframe.loc[idx].length + dataframe.iloc[i].length) / 2\n",
    "            else:\n",
    "                pass\n",
    "        real_distance_adj[idx, idx] = 0\n",
    "        \n",
    "    return real_distance_adj"
   ]
  },
  {
   "cell_type": "code",
   "execution_count": null,
   "id": "ac2b0729",
   "metadata": {},
   "outputs": [],
   "source": [
    "number = len(data_ID)\n",
    "distance_adj = DistanceAdj(data, number)\n",
    "distance_df = pd.DataFrame(distance_adj.numpy())\n",
    "distance_df"
   ]
  },
  {
   "cell_type": "code",
   "execution_count": null,
   "id": "14004a98",
   "metadata": {},
   "outputs": [],
   "source": [
    "network_graph = {}\n",
    "for idx1 in EdgeID_list:\n",
    "    sample = {}\n",
    "    for idx2 in EdgeID_list:\n",
    "        if distance_adj[idx1][idx2] != 0:\n",
    "            sample[idx2] = distance_adj[idx1][idx2]\n",
    "        else:\n",
    "            pass\n",
    "    network_graph[idx1] = sample"
   ]
  },
  {
   "cell_type": "code",
   "execution_count": null,
   "id": "0ad8f169",
   "metadata": {},
   "outputs": [],
   "source": [
    "## Code reference: https://justkode.kr/algorithm/python-dijkstra ##\n",
    "\n",
    "import heapq  # For implementing a priority queue (built-in module)\n",
    "\n",
    "def dijkstra(graph, start):\n",
    "    distances = {node: float('inf') for node in graph}\n",
    "    distances[start] = 0\n",
    "    queue = []\n",
    "    heapq.heappush(queue, [distances[start], start])\n",
    "    \n",
    "    while queue:  # Continue until all nodes are processed\n",
    "        current_distance, current_destination = heapq.heappop(queue)\n",
    "        \n",
    "        if distances[current_destination] < current_distance:\n",
    "            continue\n",
    "            \n",
    "        for new_destination, new_distance in graph[current_destination].items():\n",
    "            distance = current_distance + new_distance\n",
    "            if distance < distances[new_destination]:\n",
    "                distances[new_destination] = distance\n",
    "                heapq.heappush(queue, [distance, new_destination])\n",
    "    \n",
    "    return distances"
   ]
  },
  {
   "cell_type": "code",
   "execution_count": null,
   "id": "2fec29ff",
   "metadata": {},
   "outputs": [],
   "source": [
    "dijkstra_df = pd.DataFrame()\n",
    "\n",
    "for idx in EdgeID_list:\n",
    "    result = dijkstra(network_graph, idx)\n",
    "    sample_df = pd.DataFrame.from_dict([result])\n",
    "    dijkstra_df = pd.concat([dijkstra_df, sample_df])\n",
    "    \n",
    "dijkstra_df"
   ]
  },
  {
   "cell_type": "code",
   "execution_count": null,
   "id": "f6f47061",
   "metadata": {},
   "outputs": [],
   "source": [
    "dijkstra_df_copy = dijkstra_df.copy()\n",
    "dijkstra_df_copy = dijkstra_df_copy.applymap(lambda x: x.item() if torch.is_tensor(x) else x)\n",
    "dijkstra_df_copy = dijkstra_df_copy.replace(float('inf'), 0.0)"
   ]
  },
  {
   "cell_type": "code",
   "execution_count": null,
   "id": "dcf6e2ca",
   "metadata": {},
   "outputs": [],
   "source": [
    "dijkstra_df_copy.to_csv('../../input_data/dijkstra_matrix.csv', index=False)"
   ]
  }
 ],
 "metadata": {
  "kernelspec": {
   "display_name": "brl",
   "language": "python",
   "name": "python3"
  },
  "language_info": {
   "codemirror_mode": {
    "name": "ipython",
    "version": 3
   },
   "file_extension": ".py",
   "mimetype": "text/x-python",
   "name": "python",
   "nbconvert_exporter": "python",
   "pygments_lexer": "ipython3",
   "version": "3.8.13"
  }
 },
 "nbformat": 4,
 "nbformat_minor": 5
}
