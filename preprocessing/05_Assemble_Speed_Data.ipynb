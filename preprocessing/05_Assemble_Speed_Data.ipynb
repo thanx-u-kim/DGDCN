{
 "cells": [
  {
   "cell_type": "code",
   "execution_count": null,
   "id": "7f0b6396",
   "metadata": {
    "id": "7f0b6396",
    "outputId": "0d0ca1fa-645a-4771-a5c1-31dc19c566ff"
   },
   "outputs": [],
   "source": [
    "from IPython.core.display import display, HTML\n",
    "display(HTML(\"<style>.container { width:90% !important; }</style>\"))"
   ]
  },
  {
   "cell_type": "code",
   "execution_count": null,
   "id": "47169406",
   "metadata": {
    "id": "47169406"
   },
   "outputs": [],
   "source": [
    "import matplotlib.pyplot as plt\n",
    "import numpy as np\n",
    "import pandas as pd\n",
    "import pickle\n",
    "import time\n",
    "import math\n",
    "\n",
    "import warnings\n",
    "warnings.filterwarnings('ignore')"
   ]
  },
  {
   "cell_type": "code",
   "execution_count": null,
   "id": "7ba90285",
   "metadata": {
    "id": "7ba90285"
   },
   "outputs": [],
   "source": [
    "def name_call(day, order): \n",
    "    directory = './Mapmatching_output/18-04-'+format(day, '02')+'/'\n",
    "    filename = 'speed'+'_'+format(day, '02')+'_'+format(order, '03')+'.pkl'\n",
    "    full_name = directory + filename\n",
    "    return full_name"
   ]
  },
  {
   "cell_type": "code",
   "execution_count": null,
   "id": "bydqZdykxtxS",
   "metadata": {
    "id": "bydqZdykxtxS"
   },
   "outputs": [],
   "source": [
    "datelist = [2, 3, 4, 5, 6, 9, 10, 11, 12, 13, 16, 17, 18, 19, 20, 23, 24, 25, 26, 27] ## Consider only weekdays (Mon–Fri) for the month of April.\n",
    "datalength = 144 * len(datelist)\n",
    "print(f'Dataset contains total {len(datelist)} days, and the length is {datalength}.')"
   ]
  },
  {
   "cell_type": "code",
   "execution_count": null,
   "id": "21d1f2a9",
   "metadata": {},
   "outputs": [],
   "source": [
    "def get_time_list(num):\n",
    "    time_list = [num + 144*i for i in range(-40, 40)]\n",
    "    valid_list = [value for value in time_list if value>= 0 and value < datalength and value!=num]\n",
    "    return valid_list"
   ]
  },
  {
   "cell_type": "code",
   "execution_count": null,
   "id": "631ec546",
   "metadata": {
    "id": "631ec546",
    "outputId": "da7e799a-73bf-4715-ee15-42a33d570f2b",
    "scrolled": true
   },
   "outputs": [],
   "source": [
    "edge_number = 451 # You should input the exact nodes number of the study area network \n",
    "col_list = list(range(0, edge_number))\n",
    "Speed = pd.DataFrame(columns = col_list)\n",
    "\n",
    "start = time.time()\n",
    "\n",
    "for i in datelist:\n",
    "    for j in range(0, 144):\n",
    "        filename = name_call(i, j)\n",
    "        try:\n",
    "            data = pd.read_pickle(filename)\n",
    "            Speed = Speed.append(data.T.loc['Speed'], ignore_index=True)\n",
    "\n",
    "        except:\n",
    "            empty_data = pd.Series(dtype='float')\n",
    "            Speed = Speed.append(empty_data, ignore_index=True)\n",
    "            \n",
    "print(f'Total processing time: {time.time()-start} seconds.')"
   ]
  },
  {
   "cell_type": "code",
   "execution_count": null,
   "id": "49ca75c7",
   "metadata": {
    "id": "49ca75c7",
    "outputId": "8fbf4d98-a73f-4f10-8b69-4e3f567d99af"
   },
   "outputs": [],
   "source": [
    "start = time.time()\n",
    "\n",
    "for i in range(0, edge_number):\n",
    "    for j in range(0, datalength):\n",
    "        try:\n",
    "            if math.isnan(Speed[j][i]) == True: \n",
    "                if math.isnan(Speed[j+1][i]) == False:\n",
    "                    if ((Speed[j-1][i] + Speed[j+1][i]) / 2) >= 0:\n",
    "                        Speed[j][i] = (Speed[j-1][i] + Speed[j+1][i]) / 2\n",
    "                    else:\n",
    "                        raise NotImplementedError\n",
    "                else:\n",
    "                    other_days_list = pd.Series([Speed[k][i] for k in get_time_list(j)])\n",
    "                    if other_days_list.mean() >= 0:\n",
    "                        Speed[j][i] = other_days_list.mean()\n",
    "                    else:\n",
    "                        raise NotImplementedError\n",
    "            else:\n",
    "                continue\n",
    "\n",
    "        except : ## Interpolate using the overall mean at this time slot\n",
    "            sample = Speed[j]\n",
    "            sample2 = sample[(~np.isnan(sample)) & (sample > 0)]\n",
    "            Speed[j][i] = sample2.mean()\n",
    "            \n",
    "print(f'Total processing time: {time.time()-start} seconds.')"
   ]
  },
  {
   "cell_type": "code",
   "execution_count": null,
   "id": "3202ef87",
   "metadata": {
    "id": "3202ef87",
    "outputId": "0844eadd-8a66-46c5-81f1-f9aff7934598"
   },
   "outputs": [],
   "source": [
    "for i in range(edge_number):\n",
    "    if Speed[i].isnull().sum() > 0:\n",
    "        print(f'#{i} Link should be observed. The length of null data is {Speed[i].isnull().sum()}')\n",
    "\n",
    "## If the above interpolation and correction process worked correctly, \n",
    "## the expected output here should be 0 (i.e., no missing values remaining)."
   ]
  },
  {
   "cell_type": "code",
   "execution_count": null,
   "id": "cb5570b6",
   "metadata": {
    "id": "cb5570b6"
   },
   "outputs": [],
   "source": [
    "Speed.to_csv('../../input_data/speed_data.csv', index=False)"
   ]
  }
 ],
 "metadata": {
  "colab": {
   "collapsed_sections": [],
   "name": "(220706)SpeedInput_Generation.ipynb",
   "provenance": []
  },
  "kernelspec": {
   "display_name": "brl",
   "language": "python",
   "name": "python3"
  },
  "language_info": {
   "codemirror_mode": {
    "name": "ipython",
    "version": 3
   },
   "file_extension": ".py",
   "mimetype": "text/x-python",
   "name": "python",
   "nbconvert_exporter": "python",
   "pygments_lexer": "ipython3",
   "version": "3.8.13"
  }
 },
 "nbformat": 4,
 "nbformat_minor": 5
}
